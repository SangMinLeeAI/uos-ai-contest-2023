{
 "cells": [
  {
   "cell_type": "code",
   "execution_count": 1,
   "metadata": {
    "collapsed": true
   },
   "outputs": [],
   "source": [
    "import pandas as pd"
   ]
  },
  {
   "cell_type": "code",
   "execution_count": null,
   "outputs": [],
   "source": [
    "!ls"
   ],
   "metadata": {
    "collapsed": false
   }
  },
  {
   "cell_type": "markdown",
   "source": [
    "# proprocceing"
   ],
   "metadata": {
    "collapsed": false
   }
  },
  {
   "cell_type": "markdown",
   "source": [
    "## Label encoding"
   ],
   "metadata": {
    "collapsed": false
   }
  },
  {
   "cell_type": "code",
   "execution_count": null,
   "outputs": [],
   "source": [
    "train_info = pd.read_csv(r'/home1/sangminuosai/data/train.csv')"
   ],
   "metadata": {
    "collapsed": false
   }
  },
  {
   "cell_type": "code",
   "execution_count": null,
   "outputs": [],
   "source": [
    "'''\n",
    "crash + ego-Involved : 0, 1, 2\n",
    "wether : 0: Normal , 1: Snowy, 2: Rainy\n",
    "timing : 0: Day, 1: Night\n",
    "'''\n",
    "label_data = {\n",
    "    0:'000',\n",
    "    1:'100',\n",
    "    2:'101',\n",
    "    3:'111',\n",
    "    4:'110',\n",
    "    5:'120',\n",
    "    6:'121',\n",
    "    7:'200',\n",
    "    8:'201',\n",
    "    9:'210',\n",
    "    10:'211',\n",
    "    11:'220',\n",
    "    12:'221',\n",
    "              }"
   ],
   "metadata": {
    "collapsed": false
   }
  },
  {
   "cell_type": "code",
   "execution_count": null,
   "outputs": [],
   "source": [
    "train_info['multi_label'] = train_info['label'].map(label_data)"
   ],
   "metadata": {
    "collapsed": false
   }
  },
  {
   "cell_type": "code",
   "execution_count": null,
   "outputs": [],
   "source": [
    "train_info['crush'] = train_info['multi_label'].str[0]\n",
    "train_info['weather'] = train_info['multi_label'].str[1]\n",
    "train_info['timing'] = train_info['multi_label'].str[2]"
   ],
   "metadata": {
    "collapsed": false
   }
  },
  {
   "cell_type": "markdown",
   "source": [
    "### save the result"
   ],
   "metadata": {
    "collapsed": false
   }
  },
  {
   "cell_type": "code",
   "execution_count": null,
   "outputs": [],
   "source": [
    "train_info.to_csv(r'/home1/sangminuosai/data/train_info.csv', index=False)"
   ],
   "metadata": {
    "collapsed": false
   }
  }
 ],
 "metadata": {
  "kernelspec": {
   "name": "miniconda3",
   "language": "python",
   "display_name": "miniconda3"
  },
  "language_info": {
   "codemirror_mode": {
    "name": "ipython",
    "version": 2
   },
   "file_extension": ".py",
   "mimetype": "text/x-python",
   "name": "python",
   "nbconvert_exporter": "python",
   "pygments_lexer": "ipython2",
   "version": "2.7.6"
  }
 },
 "nbformat": 4,
 "nbformat_minor": 0
}
